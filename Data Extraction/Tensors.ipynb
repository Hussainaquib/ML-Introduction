{
 "cells": [
  {
   "cell_type": "markdown",
   "id": "763e1307",
   "metadata": {},
   "source": [
    "## Tensors is a container(data structure) where we store the numbers."
   ]
  },
  {
   "cell_type": "code",
   "execution_count": 1,
   "id": "b4d3bd45",
   "metadata": {},
   "outputs": [],
   "source": [
    "import numpy as np"
   ]
  },
  {
   "cell_type": "markdown",
   "id": "0e428417",
   "metadata": {},
   "source": [
    "### 0D Tensor (Scalar)"
   ]
  },
  {
   "cell_type": "code",
   "execution_count": 2,
   "id": "2313ec14",
   "metadata": {},
   "outputs": [
    {
     "name": "stdout",
     "output_type": "stream",
     "text": [
      "5\n"
     ]
    }
   ],
   "source": [
    "a=5\n",
    "print(a)"
   ]
  },
  {
   "cell_type": "markdown",
   "id": "d46e4767",
   "metadata": {},
   "source": [
    "### 1D Tensor (Vector)"
   ]
  },
  {
   "cell_type": "code",
   "execution_count": 3,
   "id": "0f3a5988",
   "metadata": {},
   "outputs": [
    {
     "name": "stdout",
     "output_type": "stream",
     "text": [
      "1 (3,)\n"
     ]
    }
   ],
   "source": [
    "# Tensor having rank / axes = 1 and dimension along the axis as 3\n",
    "x = np.array([56, 183, 1])\n",
    "# Dimension = 1\n",
    "# Shape = 3,\n",
    "print(x.ndim, x.shape) "
   ]
  },
  {
   "cell_type": "markdown",
   "id": "53eade39",
   "metadata": {},
   "source": [
    "### 2D Tensor (Matrix)"
   ]
  },
  {
   "cell_type": "code",
   "execution_count": 4,
   "id": "7c42262a",
   "metadata": {},
   "outputs": [
    {
     "name": "stdout",
     "output_type": "stream",
     "text": [
      "2 (3, 3)\n"
     ]
    }
   ],
   "source": [
    "# Tensor having rank / axes = 2 and dimension along each axis as 3\n",
    "x = np.array([[56, 183, 1],\n",
    "             [78, 178, 2],\n",
    "             [50, 165, 0]])\n",
    "# Dimension = 2\n",
    "# Shape = 3, 3\n",
    "print(x.ndim, x.shape)"
   ]
  },
  {
   "cell_type": "markdown",
   "id": "09897c48",
   "metadata": {},
   "source": [
    "### 3D Tensor (text)"
   ]
  },
  {
   "cell_type": "code",
   "execution_count": 5,
   "id": "63c1de8a",
   "metadata": {},
   "outputs": [
    {
     "name": "stdout",
     "output_type": "stream",
     "text": [
      "3 (2, 2, 3)\n"
     ]
    }
   ],
   "source": [
    "# Tensor having rank / axes = 3 and dimension along the axis as 3\n",
    "x = np.array([[[56, 183, 1],\n",
    "               [65, 164, 0]],\n",
    "              [[85, 176, 1],\n",
    "               [44, 164, 0]]])\n",
    "# Dimension = 3\n",
    "# Shape = (2, 2, 3),\n",
    "print(x.ndim, x.shape)"
   ]
  },
  {
   "cell_type": "markdown",
   "id": "e298688e",
   "metadata": {},
   "source": [
    "### 4D Tensor (images)"
   ]
  },
  {
   "cell_type": "code",
   "execution_count": 6,
   "id": "57fcc760",
   "metadata": {},
   "outputs": [
    {
     "name": "stdout",
     "output_type": "stream",
     "text": [
      "4 (4, 2, 3, 4)\n"
     ]
    }
   ],
   "source": [
    "x  = np.array(\n",
    "\n",
    "[\n",
    "  [\n",
    "              [ [1,2,3,4],\n",
    "                [4,5,6,7],\n",
    "                [7,6,3,2] ],\n",
    "              [ [5,4,5,7],\n",
    "                [4,5,7,4],\n",
    "                [3,6,4,2] ]\n",
    "      ],\n",
    "  [\n",
    "              [ [1,2,3,4],\n",
    "                [4,5,6,7],\n",
    "                [7,6,3,2] ],\n",
    "              [ [5,4,5,7],\n",
    "                [4,5,7,4],\n",
    "                [3,6,4,2] ]\n",
    "      ],\n",
    "  [\n",
    "              [ [1,2,3,4],\n",
    "                [4,5,6,7],\n",
    "                [7,6,3,2] ],\n",
    "              [ [5,4,5,7],\n",
    "                [4,5,7,4],\n",
    "                [3,6,4,2] ]\n",
    "      ],\n",
    "  [\n",
    "              [ [1,2,3,4],\n",
    "                [4,5,6,7],\n",
    "                [7,6,3,2] ],\n",
    "              [ [5,4,5,7],\n",
    "                [4,5,7,4],\n",
    "                [3,6,4,2] ]\n",
    "      ]\n",
    "]\n",
    " )\n",
    "print(x.ndim, x.shape)"
   ]
  },
  {
   "cell_type": "markdown",
   "id": "5ba97348",
   "metadata": {},
   "source": [
    "### 5D Tensor (Videos)"
   ]
  }
 ],
 "metadata": {
  "kernelspec": {
   "display_name": "Python 3 (ipykernel)",
   "language": "python",
   "name": "python3"
  },
  "language_info": {
   "codemirror_mode": {
    "name": "ipython",
    "version": 3
   },
   "file_extension": ".py",
   "mimetype": "text/x-python",
   "name": "python",
   "nbconvert_exporter": "python",
   "pygments_lexer": "ipython3",
   "version": "3.10.9"
  }
 },
 "nbformat": 4,
 "nbformat_minor": 5
}
