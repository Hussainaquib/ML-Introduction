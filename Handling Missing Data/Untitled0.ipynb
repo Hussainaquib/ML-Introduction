{
  "nbformat": 4,
  "nbformat_minor": 0,
  "metadata": {
    "colab": {
      "provenance": []
    },
    "kernelspec": {
      "name": "python3",
      "display_name": "Python 3"
    },
    "language_info": {
      "name": "python"
    }
  },
  "cells": [
    {
      "cell_type": "code",
      "execution_count": 1,
      "metadata": {
        "colab": {
          "base_uri": "https://localhost:8080/"
        },
        "id": "W7Ym6pNCSr2G",
        "outputId": "6d1fa94e-15a9-44a7-e334-dc6d8e8a9233"
      },
      "outputs": [
        {
          "output_type": "stream",
          "name": "stdout",
          "text": [
            "Original DataFrame:\n",
            "     A    B  C\n",
            "0  1.0  NaN  5\n",
            "1  2.0  1.0  6\n",
            "2  NaN  2.0  7\n",
            "3  4.0  NaN  8\n",
            "4  5.0  4.0  9\n",
            "\n",
            "DataFrame after Mean Imputation:\n",
            "     A         B  C\n",
            "0  1.0  2.333333  5\n",
            "1  2.0  1.000000  6\n",
            "2  3.0  2.000000  7\n",
            "3  4.0  2.333333  8\n",
            "4  5.0  4.000000  9\n",
            "\n",
            "DataFrame after Forward Fill:\n",
            "     A    B  C\n",
            "0  1.0  NaN  5\n",
            "1  2.0  1.0  6\n",
            "2  2.0  2.0  7\n",
            "3  4.0  2.0  8\n",
            "4  5.0  4.0  9\n",
            "\n",
            "DataFrame after Backward Fill:\n",
            "     A    B  C\n",
            "0  1.0  1.0  5\n",
            "1  2.0  1.0  6\n",
            "2  4.0  2.0  7\n",
            "3  4.0  4.0  8\n",
            "4  5.0  4.0  9\n"
          ]
        },
        {
          "output_type": "stream",
          "name": "stderr",
          "text": [
            "<ipython-input-1-333d3d01eacd>:30: FutureWarning: DataFrame.fillna with 'method' is deprecated and will raise in a future version. Use obj.ffill() or obj.bfill() instead.\n",
            "  df_forward_filled = df_forward_filled.fillna(method='ffill')\n",
            "<ipython-input-1-333d3d01eacd>:37: FutureWarning: DataFrame.fillna with 'method' is deprecated and will raise in a future version. Use obj.ffill() or obj.bfill() instead.\n",
            "  df_backward_filled = df_backward_filled.fillna(method='bfill')\n"
          ]
        }
      ],
      "source": [
        "# 1.Handling Missing Values:\n",
        "\n",
        "\n",
        "import pandas as pd\n",
        "import numpy as np\n",
        "\n",
        "# Sample dataset with missing values\n",
        "data = {\n",
        "    'A': [1, 2, np.nan, 4, 5],\n",
        "    'B': [np.nan, 1, 2, np.nan, 4],\n",
        "    'C': [5, 6, 7, 8, 9]\n",
        "}\n",
        "\n",
        "# Create a DataFrame\n",
        "df = pd.DataFrame(data)\n",
        "\n",
        "print(\"Original DataFrame:\")\n",
        "print(df)\n",
        "\n",
        "# Method 1: Fill missing values using mean imputation\n",
        "df_mean_imputed = df.copy()\n",
        "df_mean_imputed['A'] = df_mean_imputed['A'].fillna(df_mean_imputed['A'].mean())\n",
        "df_mean_imputed['B'] = df_mean_imputed['B'].fillna(df_mean_imputed['B'].mean())\n",
        "\n",
        "print(\"\\nDataFrame after Mean Imputation:\")\n",
        "print(df_mean_imputed)\n",
        "\n",
        "# Method 2: Fill missing values using forward fill\n",
        "df_forward_filled = df.copy()\n",
        "df_forward_filled = df_forward_filled.fillna(method='ffill')\n",
        "\n",
        "print(\"\\nDataFrame after Forward Fill:\")\n",
        "print(df_forward_filled)\n",
        "\n",
        "# Method 3: Fill missing values using backward fill\n",
        "df_backward_filled = df.copy()\n",
        "df_backward_filled = df_backward_filled.fillna(method='bfill')\n",
        "\n",
        "print(\"\\nDataFrame after Backward Fill:\")\n",
        "print(df_backward_filled)\n"
      ]
    },
    {
      "cell_type": "code",
      "source": [
        "# 2. Data Filtering:\n",
        "\n",
        "import pandas as pd\n",
        "\n",
        "# Sample dataset\n",
        "data = {\n",
        "    'A': [1, 2, 3, 100, 5],\n",
        "    'B': [10, 20, 30, 40, 50],\n",
        "    'C': [15, 25, 35, 45, 55]\n",
        "}\n",
        "\n",
        "# Create a DataFrame\n",
        "df = pd.DataFrame(data)\n",
        "\n",
        "# Filter rows: Remove outliers in column 'A' (values outside 1.5 IQR)\n",
        "Q1 = df['A'].quantile(0.25)\n",
        "Q3 = df['A'].quantile(0.75)\n",
        "IQR = Q3 - Q1\n",
        "filtered_df = df[(df['A'] >= Q1 - 1.5 * IQR) & (df['A'] <= Q3 + 1.5 * IQR)]\n",
        "\n",
        "# Filter rows: Select data where column 'B' is within a certain range (15 to 45)\n",
        "range_filtered_df = df[(df['B'] >= 15) & (df['B'] <= 45)]\n",
        "\n",
        "# Filter columns: Select specific columns\n",
        "selected_columns_df = df[['A', 'C']]\n",
        "\n",
        "# Display filtered DataFrames\n",
        "print(\"Filtered DataFrame (No Outliers in 'A'):\\n\", filtered_df)\n",
        "print(\"\\nFiltered DataFrame (Range 15 to 45 in 'B'):\\n\", range_filtered_df)\n",
        "print(\"\\nSelected Columns DataFrame ('A' and 'C'):\\n\", selected_columns_df)\n"
      ],
      "metadata": {
        "colab": {
          "base_uri": "https://localhost:8080/"
        },
        "id": "mojlq7KPUMda",
        "outputId": "25a5c532-6bae-4413-ae6f-e590a0e6264e"
      },
      "execution_count": 2,
      "outputs": [
        {
          "output_type": "stream",
          "name": "stdout",
          "text": [
            "Filtered DataFrame (No Outliers in 'A'):\n",
            "    A   B   C\n",
            "0  1  10  15\n",
            "1  2  20  25\n",
            "2  3  30  35\n",
            "4  5  50  55\n",
            "\n",
            "Filtered DataFrame (Range 15 to 45 in 'B'):\n",
            "      A   B   C\n",
            "1    2  20  25\n",
            "2    3  30  35\n",
            "3  100  40  45\n",
            "\n",
            "Selected Columns DataFrame ('A' and 'C'):\n",
            "      A   C\n",
            "0    1  15\n",
            "1    2  25\n",
            "2    3  35\n",
            "3  100  45\n",
            "4    5  55\n"
          ]
        }
      ]
    },
    {
      "cell_type": "code",
      "source": [
        "# 3. Data Aggregation\n",
        "\n",
        "import pandas as pd\n",
        "\n",
        "# Sample dataset\n",
        "data = {\n",
        "    'Category': ['A', 'B', 'A', 'B', 'A', 'C', 'C'],\n",
        "    'Values': [10, 20, 15, 25, 10, 30, 40],\n",
        "    'Scores': [1, 2, 3, 4, 5, 6, 7]\n",
        "}\n",
        "\n",
        "# Create a DataFrame\n",
        "df = pd.DataFrame(data)\n",
        "\n",
        "# Group by 'Category' and compute aggregate statistics\n",
        "aggregated_df = df.groupby('Category').agg({\n",
        "    'Values': ['mean', 'sum', 'count'],  # Mean, Sum, and Count for 'Values'\n",
        "    'Scores': ['median', 'max']         # Median and Max for 'Scores'\n",
        "})\n",
        "\n",
        "# Reset index for better readability (optional)\n",
        "aggregated_df = aggregated_df.reset_index()\n",
        "\n",
        "# Display the aggregated DataFrame\n",
        "print(\"Aggregated DataFrame:\")\n",
        "print(aggregated_df)\n"
      ],
      "metadata": {
        "colab": {
          "base_uri": "https://localhost:8080/"
        },
        "id": "-ULW7j76UdcF",
        "outputId": "50291572-0fe3-4f39-f2ee-5eaa573ffb2d"
      },
      "execution_count": 3,
      "outputs": [
        {
          "output_type": "stream",
          "name": "stdout",
          "text": [
            "Aggregated DataFrame:\n",
            "  Category     Values           Scores    \n",
            "                 mean sum count median max\n",
            "0        A  11.666667  35     3    3.0   5\n",
            "1        B  22.500000  45     2    3.0   4\n",
            "2        C  35.000000  70     2    6.5   7\n"
          ]
        }
      ]
    },
    {
      "cell_type": "code",
      "source": [
        "# 4. Data Concatenation:\n",
        "\n",
        "import pandas as pd\n",
        "\n",
        "# Sample datasets\n",
        "data1 = {\n",
        "    'ID': [1, 2, 3],\n",
        "    'Name': ['Alice', 'Bob', 'Charlie']\n",
        "}\n",
        "data2 = {\n",
        "    'ID': [4, 5, 6],\n",
        "    'Name': ['David', 'Eve', 'Frank']\n",
        "}\n",
        "data3 = {\n",
        "    'ID': [1, 2, 3],\n",
        "    'Age': [25, 30, 35]\n",
        "}\n",
        "\n",
        "# Create DataFrames\n",
        "df1 = pd.DataFrame(data1)\n",
        "df2 = pd.DataFrame(data2)\n",
        "df3 = pd.DataFrame(data3)\n",
        "\n",
        "# Concatenate along rows (vertical concatenation)\n",
        "concat_rows = pd.concat([df1, df2], axis=0, ignore_index=True)\n",
        "\n",
        "# Concatenate along columns (horizontal concatenation)\n",
        "concat_cols = pd.concat([df1, df3], axis=1)\n",
        "\n",
        "# Display concatenated DataFrames\n",
        "print(\"Concatenated DataFrame (Rows):\")\n",
        "print(concat_rows)\n",
        "\n",
        "print(\"\\nConcatenated DataFrame (Columns):\")\n",
        "print(concat_cols)\n"
      ],
      "metadata": {
        "colab": {
          "base_uri": "https://localhost:8080/"
        },
        "id": "ZNAWxaedU4WL",
        "outputId": "9ffea47a-8419-46ed-9b10-db6901dc329c"
      },
      "execution_count": 4,
      "outputs": [
        {
          "output_type": "stream",
          "name": "stdout",
          "text": [
            "Concatenated DataFrame (Rows):\n",
            "   ID     Name\n",
            "0   1    Alice\n",
            "1   2      Bob\n",
            "2   3  Charlie\n",
            "3   4    David\n",
            "4   5      Eve\n",
            "5   6    Frank\n",
            "\n",
            "Concatenated DataFrame (Columns):\n",
            "   ID     Name  ID  Age\n",
            "0   1    Alice   1   25\n",
            "1   2      Bob   2   30\n",
            "2   3  Charlie   3   35\n"
          ]
        }
      ]
    },
    {
      "cell_type": "code",
      "source": [
        "# 5. Data Reshaping\n",
        "\n",
        "import pandas as pd\n",
        "\n",
        "# Sample dataset in wide format\n",
        "data = {\n",
        "    'ID': [1, 2, 3],\n",
        "    'Year_2020': [100, 200, 300],\n",
        "    'Year_2021': [150, 250, 350]\n",
        "}\n",
        "\n",
        "# Create a DataFrame\n",
        "df = pd.DataFrame(data)\n",
        "\n",
        "# Reshape wide to long format using melt\n",
        "long_format = pd.melt(df, id_vars=['ID'], var_name='Year', value_name='Value')\n",
        "\n",
        "# Sample dataset in long format\n",
        "data_long = {\n",
        "    'ID': [1, 1, 2, 2, 3, 3],\n",
        "    'Year': ['2020', '2021', '2020', '2021', '2020', '2021'],\n",
        "    'Value': [100, 150, 200, 250, 300, 350]\n",
        "}\n",
        "\n",
        "# Create a long format DataFrame\n",
        "df_long = pd.DataFrame(data_long)\n",
        "\n",
        "# Reshape long to wide format using pivot\n",
        "wide_format = df_long.pivot(index='ID', columns='Year', values='Value').reset_index()\n",
        "\n",
        "# Reshape using stack (wide to long)\n",
        "stacked = df.set_index('ID').stack().reset_index(name='Value')\n",
        "\n",
        "# Reshape using unstack (long to wide)\n",
        "unstacked = stacked.set_index(['ID', 'level_1']).unstack().reset_index()\n",
        "\n",
        "# Display reshaped DataFrames\n",
        "print(\"Wide to Long Format (melt):\")\n",
        "print(long_format)\n",
        "\n",
        "print(\"\\nLong to Wide Format (pivot):\")\n",
        "print(wide_format)\n",
        "\n",
        "print(\"\\nStacked DataFrame (wide to long):\")\n",
        "print(stacked)\n",
        "\n",
        "print(\"\\nUnstacked DataFrame (long to wide):\")\n",
        "print(unstacked)\n"
      ],
      "metadata": {
        "colab": {
          "base_uri": "https://localhost:8080/"
        },
        "id": "WOI-fmizVDjT",
        "outputId": "0385995b-8fcc-4b25-8aae-ee4651b57fb2"
      },
      "execution_count": 5,
      "outputs": [
        {
          "output_type": "stream",
          "name": "stdout",
          "text": [
            "Wide to Long Format (melt):\n",
            "   ID       Year  Value\n",
            "0   1  Year_2020    100\n",
            "1   2  Year_2020    200\n",
            "2   3  Year_2020    300\n",
            "3   1  Year_2021    150\n",
            "4   2  Year_2021    250\n",
            "5   3  Year_2021    350\n",
            "\n",
            "Long to Wide Format (pivot):\n",
            "Year  ID  2020  2021\n",
            "0      1   100   150\n",
            "1      2   200   250\n",
            "2      3   300   350\n",
            "\n",
            "Stacked DataFrame (wide to long):\n",
            "   ID    level_1  Value\n",
            "0   1  Year_2020    100\n",
            "1   1  Year_2021    150\n",
            "2   2  Year_2020    200\n",
            "3   2  Year_2021    250\n",
            "4   3  Year_2020    300\n",
            "5   3  Year_2021    350\n",
            "\n",
            "Unstacked DataFrame (long to wide):\n",
            "        ID     Value          \n",
            "level_1    Year_2020 Year_2021\n",
            "0        1       100       150\n",
            "1        2       200       250\n",
            "2        3       300       350\n"
          ]
        }
      ]
    },
    {
      "cell_type": "code",
      "source": [
        "# 6. Data Sampling\n",
        "\n",
        "import pandas as pd\n",
        "\n",
        "# Sample dataset\n",
        "data = {\n",
        "    'ID': [1, 2, 3, 4, 5],\n",
        "    'Name': ['Alice', 'Bob', 'Charlie', 'David', 'Eve'],\n",
        "    'Age': [25, 30, 35, 40, 45]\n",
        "}\n",
        "\n",
        "# Create a DataFrame\n",
        "df = pd.DataFrame(data)\n",
        "\n",
        "# Randomly sample 3 rows\n",
        "sampled_rows = df.sample(n=3, random_state=42)\n",
        "\n",
        "# Randomly sample 50% of the rows\n",
        "sampled_fraction = df.sample(frac=0.5, random_state=42)\n",
        "\n",
        "# Randomly sample 2 columns\n",
        "sampled_columns = df.sample(n=2, axis=1, random_state=42)\n",
        "\n",
        "# Display sampled subsets\n",
        "print(\"Randomly Sampled Rows (n=3):\")\n",
        "print(sampled_rows)\n",
        "\n",
        "print(\"\\nRandomly Sampled Fraction (50%):\")\n",
        "print(sampled_fraction)\n",
        "\n",
        "print(\"\\nRandomly Sampled Columns (n=2):\")\n",
        "print(sampled_columns)\n"
      ],
      "metadata": {
        "colab": {
          "base_uri": "https://localhost:8080/"
        },
        "id": "lxnicfZlVoy6",
        "outputId": "0aafa21a-6a81-432b-9fb9-64bd61926192"
      },
      "execution_count": 6,
      "outputs": [
        {
          "output_type": "stream",
          "name": "stdout",
          "text": [
            "Randomly Sampled Rows (n=3):\n",
            "   ID     Name  Age\n",
            "1   2      Bob   30\n",
            "4   5      Eve   45\n",
            "2   3  Charlie   35\n",
            "\n",
            "Randomly Sampled Fraction (50%):\n",
            "   ID Name  Age\n",
            "1   2  Bob   30\n",
            "4   5  Eve   45\n",
            "\n",
            "Randomly Sampled Columns (n=2):\n",
            "   ID     Name\n",
            "0   1    Alice\n",
            "1   2      Bob\n",
            "2   3  Charlie\n",
            "3   4    David\n",
            "4   5      Eve\n"
          ]
        }
      ]
    },
    {
      "cell_type": "code",
      "source": [
        "# 7. Data Conversion:\n",
        "\n",
        "import pandas as pd\n",
        "\n",
        "# Sample dataset\n",
        "data = {\n",
        "    'Category': ['A', 'B', 'C', 'A', 'B'],\n",
        "    'Value': [10, 20, 30, 40, 50]\n",
        "}\n",
        "\n",
        "# Create a DataFrame\n",
        "df = pd.DataFrame(data)\n",
        "\n",
        "# Convert categorical column 'Category' to numerical using label encoding\n",
        "df['Category_Numeric'] = df['Category'].astype('category').cat.codes\n",
        "\n",
        "# Convert numerical column 'Value' to string\n",
        "df['Value_String'] = df['Value'].astype(str)\n",
        "\n",
        "# Convert numerical column to float\n",
        "df['Value_Float'] = df['Value'].astype(float)\n",
        "\n",
        "# Convert back numerical to categorical\n",
        "df['Category_Converted_Back'] = df['Category_Numeric'].astype('category')\n",
        "\n",
        "# Display DataFrame with conversions\n",
        "print(\"DataFrame with Data Type Conversions:\")\n",
        "print(df)\n"
      ],
      "metadata": {
        "colab": {
          "base_uri": "https://localhost:8080/"
        },
        "id": "Aw5pDrWaWKBN",
        "outputId": "232cb754-ad35-448d-a041-840fc6ac4ce9"
      },
      "execution_count": 7,
      "outputs": [
        {
          "output_type": "stream",
          "name": "stdout",
          "text": [
            "DataFrame with Data Type Conversions:\n",
            "  Category  Value  Category_Numeric Value_String  Value_Float  \\\n",
            "0        A     10                 0           10         10.0   \n",
            "1        B     20                 1           20         20.0   \n",
            "2        C     30                 2           30         30.0   \n",
            "3        A     40                 0           40         40.0   \n",
            "4        B     50                 1           50         50.0   \n",
            "\n",
            "  Category_Converted_Back  \n",
            "0                       0  \n",
            "1                       1  \n",
            "2                       2  \n",
            "3                       0  \n",
            "4                       1  \n"
          ]
        }
      ]
    },
    {
      "cell_type": "code",
      "source": [
        "# 8. Text Data Processing:\n",
        "\n",
        "import nltk\n",
        "import re\n",
        "from nltk.corpus import stopwords\n",
        "from nltk.tokenize import word_tokenize\n",
        "\n",
        "# Download necessary resources for tokenization\n",
        "nltk.download('punkt') # download Punkt sentence tokenizer\n",
        "nltk.download('stopwords')\n",
        "nltk.download('punkt_tab')\n",
        "\n",
        "# Define the text data\n",
        "text = \"Hello! This is a sample text, demonstrating text preprocessing steps.\"\n",
        "\n",
        "# 1. Remove punctuation\n",
        "text = re.sub(r'[^\\w\\s]', '', text)\n",
        "\n",
        "# 2. Convert to lowercase\n",
        "text = text.lower()\n",
        "\n",
        "# 3. Tokenize the text\n",
        "tokens = word_tokenize(text)\n",
        "\n",
        "# 4. Remove stopwords\n",
        "stop_words = set(stopwords.words('english'))\n",
        "cleaned_tokens = [word for word in tokens if word not in stop_words]\n",
        "\n",
        "# Print the cleaned and tokenized text\n",
        "print(cleaned_tokens)"
      ],
      "metadata": {
        "colab": {
          "base_uri": "https://localhost:8080/"
        },
        "id": "0Y3WgVzSWpZB",
        "outputId": "ce05da1f-7c10-41dc-d9c5-04c185e08aa1"
      },
      "execution_count": 10,
      "outputs": [
        {
          "output_type": "stream",
          "name": "stderr",
          "text": [
            "[nltk_data] Downloading package punkt to /root/nltk_data...\n",
            "[nltk_data]   Package punkt is already up-to-date!\n",
            "[nltk_data] Downloading package stopwords to /root/nltk_data...\n",
            "[nltk_data]   Package stopwords is already up-to-date!\n",
            "[nltk_data] Downloading package punkt_tab to /root/nltk_data...\n",
            "[nltk_data]   Unzipping tokenizers/punkt_tab.zip.\n"
          ]
        },
        {
          "output_type": "stream",
          "name": "stdout",
          "text": [
            "['hello', 'sample', 'text', 'demonstrating', 'text', 'preprocessing', 'steps']\n"
          ]
        }
      ]
    },
    {
      "cell_type": "code",
      "source": [
        "# 9. Date-Time Processing\n",
        "\n",
        "import pandas as pd\n",
        "\n",
        "# Sample dataset with datetime column\n",
        "data = {\n",
        "    'Timestamp': ['2024-11-01 08:30:00', '2024-11-02 14:45:00', '2024-11-03 09:15:00'],\n",
        "    'Value': [10, 20, 30]\n",
        "}\n",
        "\n",
        "# Create a DataFrame and convert 'Timestamp' to datetime\n",
        "df = pd.DataFrame(data)\n",
        "df['Timestamp'] = pd.to_datetime(df['Timestamp'])\n",
        "\n",
        "# Extract date components\n",
        "df['Year'] = df['Timestamp'].dt.year\n",
        "df['Month'] = df['Timestamp'].dt.month\n",
        "df['Day'] = df['Timestamp'].dt.day\n",
        "df['Hour'] = df['Timestamp'].dt.hour\n",
        "df['Minute'] = df['Timestamp'].dt.minute\n",
        "\n",
        "# Calculate time differences (difference from the first timestamp)\n",
        "df['Time_Difference'] = df['Timestamp'] - df['Timestamp'].iloc[0]\n",
        "\n",
        "# Aggregate by day (mean value per day)\n",
        "daily_aggregation = df.groupby(df['Timestamp'].dt.date)['Value'].mean()\n",
        "\n",
        "# Display DataFrame with extracted components and time differences\n",
        "print(\"DataFrame with Date-Time Components:\")\n",
        "print(df)\n",
        "\n",
        "print(\"\\nDaily Aggregated Values:\")\n",
        "print(daily_aggregation)\n"
      ],
      "metadata": {
        "colab": {
          "base_uri": "https://localhost:8080/"
        },
        "id": "ZJBwWsFZXF9k",
        "outputId": "e596d2c7-42e3-46b8-b70b-91b3e221dfd6"
      },
      "execution_count": 11,
      "outputs": [
        {
          "output_type": "stream",
          "name": "stdout",
          "text": [
            "DataFrame with Date-Time Components:\n",
            "            Timestamp  Value  Year  Month  Day  Hour  Minute Time_Difference\n",
            "0 2024-11-01 08:30:00     10  2024     11    1     8      30 0 days 00:00:00\n",
            "1 2024-11-02 14:45:00     20  2024     11    2    14      45 1 days 06:15:00\n",
            "2 2024-11-03 09:15:00     30  2024     11    3     9      15 2 days 00:45:00\n",
            "\n",
            "Daily Aggregated Values:\n",
            "Timestamp\n",
            "2024-11-01    10.0\n",
            "2024-11-02    20.0\n",
            "2024-11-03    30.0\n",
            "Name: Value, dtype: float64\n"
          ]
        }
      ]
    },
    {
      "cell_type": "code",
      "source": [
        "# 10. Data Merging:\n",
        "\n",
        "import pandas as pd\n",
        "\n",
        "# Sample dataset 1\n",
        "data1 = {\n",
        "    'ID': [1, 2, 3],\n",
        "    'Name': ['Alice', 'Bob', 'Charlie']\n",
        "}\n",
        "\n",
        "# Sample dataset 2\n",
        "data2 = {\n",
        "    'ID': [2, 3, 4],\n",
        "    'Age': [30, 35, 40]\n",
        "}\n",
        "\n",
        "# Create DataFrames\n",
        "df1 = pd.DataFrame(data1)\n",
        "df2 = pd.DataFrame(data2)\n",
        "\n",
        "# Merge datasets using inner join (default)\n",
        "inner_merged = pd.merge(df1, df2, on='ID')\n",
        "\n",
        "# Merge datasets using left join\n",
        "left_merged = pd.merge(df1, df2, on='ID', how='left')\n",
        "\n",
        "# Merge datasets using right join\n",
        "right_merged = pd.merge(df1, df2, on='ID', how='right')\n",
        "\n",
        "# Merge datasets using outer join\n",
        "outer_merged = pd.merge(df1, df2, on='ID', how='outer')\n",
        "\n",
        "# Display merged DataFrames\n",
        "print(\"Inner Join:\\n\", inner_merged)\n",
        "print(\"\\nLeft Join:\\n\", left_merged)\n",
        "print(\"\\nRight Join:\\n\", right_merged)\n",
        "print(\"\\nOuter Join:\\n\", outer_merged)\n"
      ],
      "metadata": {
        "colab": {
          "base_uri": "https://localhost:8080/"
        },
        "id": "HC8ZMOmHXfkn",
        "outputId": "c33d1511-cf55-46d0-986c-3381988a2b3a"
      },
      "execution_count": 12,
      "outputs": [
        {
          "output_type": "stream",
          "name": "stdout",
          "text": [
            "Inner Join:\n",
            "    ID     Name  Age\n",
            "0   2      Bob   30\n",
            "1   3  Charlie   35\n",
            "\n",
            "Left Join:\n",
            "    ID     Name   Age\n",
            "0   1    Alice   NaN\n",
            "1   2      Bob  30.0\n",
            "2   3  Charlie  35.0\n",
            "\n",
            "Right Join:\n",
            "    ID     Name  Age\n",
            "0   2      Bob   30\n",
            "1   3  Charlie   35\n",
            "2   4      NaN   40\n",
            "\n",
            "Outer Join:\n",
            "    ID     Name   Age\n",
            "0   1    Alice   NaN\n",
            "1   2      Bob  30.0\n",
            "2   3  Charlie  35.0\n",
            "3   4      NaN  40.0\n"
          ]
        }
      ]
    }
  ]
}