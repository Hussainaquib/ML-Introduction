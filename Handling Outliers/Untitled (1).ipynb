{
 "cells": [
  {
   "cell_type": "code",
   "execution_count": 1,
   "id": "054c8857",
   "metadata": {},
   "outputs": [
    {
     "data": {
      "text/plain": [
       "'\\n\\n# Initialize a new Git repository\\ngit init\\n\\n# Add a new file to the repository\\necho \"Hello, Git!\" > file.txt\\n\\n# Stage the file for committing\\ngit add file.txt\\n\\n# Commit the changes with a message\\ngit commit -m \"Initial commit\"\\n\\n# Add a remote repository (replace URL with your remote repo URL)\\ngit remote add origin https://github.com/username/repo.git\\n\\n# Push the changes to the remote repository\\ngit push -u origin main\\n\\n'"
      ]
     },
     "execution_count": 1,
     "metadata": {},
     "output_type": "execute_result"
    }
   ],
   "source": [
    "#1. Version Control with Git:\n",
    "\n",
    "'''\n",
    "\n",
    "# Initialize a new Git repository\n",
    "git init\n",
    "\n",
    "# Add a new file to the repository\n",
    "echo \"Hello, Git!\" > file.txt\n",
    "\n",
    "# Stage the file for committing\n",
    "git add file.txt\n",
    "\n",
    "# Commit the changes with a message\n",
    "git commit -m \"Initial commit\"\n",
    "\n",
    "# Add a remote repository (replace URL with your remote repo URL)\n",
    "git remote add origin https://github.com/username/repo.git\n",
    "\n",
    "# Push the changes to the remote repository\n",
    "git push -u origin main\n",
    "\n",
    "'''"
   ]
  },
  {
   "cell_type": "code",
   "execution_count": 2,
   "id": "9131fe0d",
   "metadata": {},
   "outputs": [
    {
     "name": "stdout",
     "output_type": "stream",
     "text": [
      "Area: 50\n"
     ]
    }
   ],
   "source": [
    "# 2. Code Review Simulation: \n",
    "\n",
    "\n",
    "# Example code for review\n",
    "def calculateArea(length, width):\n",
    "    a = length * width\n",
    "    print(\"Area:\", a)\n",
    "\n",
    "l = 5\n",
    "w = 10\n",
    "calculateArea(l, w)"
   ]
  },
  {
   "cell_type": "code",
   "execution_count": 5,
   "id": "e57d23f7",
   "metadata": {},
   "outputs": [
    {
     "data": {
      "text/plain": [
       "'\\n# main.py - Code to be tested\\ndef add(a, b):\\n    return a + b\\n\\ndef subtract(a, b):\\n    return a - b\\n\\n# test_main.py - Unit tests using pytest\\nimport pytest\\nfrom main import add, subtract\\n\\ndef test_add():\\n    assert add(2, 3) == 5\\n    assert add(-1, 1) == 0\\n    assert add(0, 0) == 0\\n\\ndef test_subtract():\\n    assert subtract(5, 3) == 2\\n    assert subtract(0, 3) == -3\\n    assert subtract(10, 10) == 0\\n\\n'"
      ]
     },
     "execution_count": 5,
     "metadata": {},
     "output_type": "execute_result"
    }
   ],
   "source": [
    "# 3. Unit Testing with pytest:\n",
    "\n",
    "\n",
    "'''\n",
    "# main.py - Code to be tested\n",
    "def add(a, b):\n",
    "    return a + b\n",
    "\n",
    "def subtract(a, b):\n",
    "    return a - b\n",
    "\n",
    "# test_main.py - Unit tests using pytest\n",
    "import pytest\n",
    "from main import add, subtract\n",
    "\n",
    "def test_add():\n",
    "    assert add(2, 3) == 5\n",
    "    assert add(-1, 1) == 0\n",
    "    assert add(0, 0) == 0\n",
    "\n",
    "def test_subtract():\n",
    "    assert subtract(5, 3) == 2\n",
    "    assert subtract(0, 3) == -3\n",
    "    assert subtract(10, 10) == 0\n",
    "\n",
    "'''"
   ]
  },
  {
   "cell_type": "code",
   "execution_count": 6,
   "id": "71122ec2",
   "metadata": {},
   "outputs": [
    {
     "data": {
      "text/plain": [
       "\"\\n# .github/workflows/ci.yml\\nname: Continuous Integration\\n\\non:\\n  push:\\n    branches: [ main ]\\n  pull_request:\\n    branches: [ main ]\\n\\njobs:\\n  build:\\n    runs-on: ubuntu-latest\\n\\n    steps:\\n      - name: Checkout repository\\n        uses: actions/checkout@v3\\n\\n      - name: Set up Python\\n        uses: actions/setup-python@v4\\n        with:\\n          python-version: '3.9'\\n\\n      - name: Install dependencies\\n        run: |\\n          python -m pip install --upgrade pip\\n          pip install -r requirements.txt\\n\\n      - name: Run tests\\n        run: |\\n          pytest\\n\\n\\n\""
      ]
     },
     "execution_count": 6,
     "metadata": {},
     "output_type": "execute_result"
    }
   ],
   "source": [
    "# 4. Continuous Integration Setup:\n",
    "\n",
    "\n",
    "'''\n",
    "# .github/workflows/ci.yml\n",
    "name: Continuous Integration\n",
    "\n",
    "on:\n",
    "  push:\n",
    "    branches: [ main ]\n",
    "  pull_request:\n",
    "    branches: [ main ]\n",
    "\n",
    "jobs:\n",
    "  build:\n",
    "    runs-on: ubuntu-latest\n",
    "\n",
    "    steps:\n",
    "      - name: Checkout repository\n",
    "        uses: actions/checkout@v3\n",
    "\n",
    "      - name: Set up Python\n",
    "        uses: actions/setup-python@v4\n",
    "        with:\n",
    "          python-version: '3.9'\n",
    "\n",
    "      - name: Install dependencies\n",
    "        run: |\n",
    "          python -m pip install --upgrade pip\n",
    "          pip install -r requirements.txt\n",
    "\n",
    "      - name: Run tests\n",
    "        run: |\n",
    "          pytest\n",
    "\n",
    "\n",
    "'''"
   ]
  },
  {
   "cell_type": "code",
   "execution_count": 8,
   "id": "f2037427",
   "metadata": {},
   "outputs": [],
   "source": [
    "# 5. Code Refactoring Exercise: \n",
    "\n",
    "\n",
    "def process_data(data):\n",
    "    result = []\n",
    "    for item in data:\n",
    "        if item % 2 == 0:\n",
    "            result.append(item * 2)\n",
    "        else:\n",
    "            result.append(item * 3)\n",
    "    return result\n",
    "\n",
    "def process_item(item):\n",
    "    \"\"\"Process a single data item.\"\"\"\n",
    "    return item * 2 if item % 2 == 0 else item * 3\n",
    "\n",
    "def process_data(data):\n",
    "    \"\"\"Process a list of data items.\"\"\"\n",
    "    return [process_item(item) for item in data]\n"
   ]
  },
  {
   "cell_type": "code",
   "execution_count": 9,
   "id": "4f183ea6",
   "metadata": {},
   "outputs": [
    {
     "data": {
      "text/plain": [
       "'\\n# Example of Agile Sprint Planning tasks in YAML format\\n\\nsprint:\\n  sprint_name: Sprint 1\\n  duration: 2 weeks\\n  user_stories:\\n    - id: US1\\n      title: \"As a user, I want to sign up, so I can access the platform.\"\\n      tasks:\\n        - id: T1\\n          description: \"Design sign-up page UI.\"\\n          estimated_effort: 3 hours\\n          assignee: \"Alice\"\\n        - id: T2\\n          description: \"Implement backend API for user registration.\"\\n          estimated_effort: 5 hours\\n          assignee: \"Bob\"\\n        - id: T3\\n          description: \"Integrate frontend with backend.\"\\n          estimated_effort: 4 hours\\n          assignee: \"Charlie\"\\n    - id: US2\\n      title: \"As an admin, I want to view user analytics, so I can monitor platform usage.\"\\n      tasks:\\n        - id: T4\\n          description: \"Set up database schema for analytics.\"\\n          estimated_effort: 6 hours\\n          assignee: \"Dana\"\\n        - id: T5\\n          description: \"Develop API for fetching analytics data.\"\\n          estimated_effort: 5 hours\\n          assignee: \"Eve\"\\n        - id: T6\\n          description: \"Create frontend dashboard for analytics.\"\\n          estimated_effort: 7 hours\\n          assignee: \"Frank\"\\n\\n\\n'"
      ]
     },
     "execution_count": 9,
     "metadata": {},
     "output_type": "execute_result"
    }
   ],
   "source": [
    "#6. Agile Sprint Planning: \n",
    "\n",
    "\n",
    "'''\n",
    "# Example of Agile Sprint Planning tasks in YAML format\n",
    "\n",
    "sprint:\n",
    "  sprint_name: Sprint 1\n",
    "  duration: 2 weeks\n",
    "  user_stories:\n",
    "    - id: US1\n",
    "      title: \"As a user, I want to sign up, so I can access the platform.\"\n",
    "      tasks:\n",
    "        - id: T1\n",
    "          description: \"Design sign-up page UI.\"\n",
    "          estimated_effort: 3 hours\n",
    "          assignee: \"Alice\"\n",
    "        - id: T2\n",
    "          description: \"Implement backend API for user registration.\"\n",
    "          estimated_effort: 5 hours\n",
    "          assignee: \"Bob\"\n",
    "        - id: T3\n",
    "          description: \"Integrate frontend with backend.\"\n",
    "          estimated_effort: 4 hours\n",
    "          assignee: \"Charlie\"\n",
    "    - id: US2\n",
    "      title: \"As an admin, I want to view user analytics, so I can monitor platform usage.\"\n",
    "      tasks:\n",
    "        - id: T4\n",
    "          description: \"Set up database schema for analytics.\"\n",
    "          estimated_effort: 6 hours\n",
    "          assignee: \"Dana\"\n",
    "        - id: T5\n",
    "          description: \"Develop API for fetching analytics data.\"\n",
    "          estimated_effort: 5 hours\n",
    "          assignee: \"Eve\"\n",
    "        - id: T6\n",
    "          description: \"Create frontend dashboard for analytics.\"\n",
    "          estimated_effort: 7 hours\n",
    "          assignee: \"Frank\"\n",
    "\n",
    "\n",
    "'''"
   ]
  },
  {
   "cell_type": "code",
   "execution_count": 10,
   "id": "8b4312b2",
   "metadata": {},
   "outputs": [
    {
     "name": "stdout",
     "output_type": "stream",
     "text": [
      "True\n",
      "False\n"
     ]
    }
   ],
   "source": [
    "# 7. Pair Programming Activity\n",
    "\n",
    "\n",
    "# Task: Write a function to check if a number is prime.\n",
    "# Driver's initial implementation\n",
    "def is_prime(num):\n",
    "    if num <= 1:\n",
    "        return False\n",
    "    for i in range(2, num):\n",
    "        if num % i == 0:\n",
    "            return False\n",
    "    return True\n",
    "\n",
    "# Navigator suggests optimizations:\n",
    "# 1. Check divisors only up to the square root of the number.\n",
    "# 2. Skip even numbers after 2 for efficiency.\n",
    "\n",
    "# Refactored implementation (after role switch)\n",
    "import math\n",
    "\n",
    "def is_prime(num):\n",
    "    if num <= 1:\n",
    "        return False\n",
    "    if num == 2:\n",
    "        return True\n",
    "    if num % 2 == 0:\n",
    "        return False\n",
    "    for i in range(3, int(math.sqrt(num)) + 1, 2):\n",
    "        if num % i == 0:\n",
    "            return False\n",
    "    return True\n",
    "\n",
    "# Example usage\n",
    "print(is_prime(29))  # Output: True\n",
    "print(is_prime(15))  # Output: False\n"
   ]
  },
  {
   "cell_type": "code",
   "execution_count": 11,
   "id": "30767785",
   "metadata": {},
   "outputs": [],
   "source": [
    "# 8. Code Documentation Practice\n",
    "\n",
    "\n",
    "# Python Code with Docstrings\n",
    "class Calculator:\n",
    "    \"\"\"\n",
    "    A simple calculator class to perform basic arithmetic operations.\n",
    "    \"\"\"\n",
    "\n",
    "    def add(self, a, b):\n",
    "        \"\"\"\n",
    "        Add two numbers.\n",
    "\n",
    "        :param a: First number\n",
    "        :param b: Second number\n",
    "        :return: Sum of a and b\n",
    "        \"\"\"\n",
    "        return a + b\n",
    "\n",
    "    def subtract(self, a, b):\n",
    "        \"\"\"\n",
    "        Subtract one number from another.\n",
    "\n",
    "        :param a: First number\n",
    "        :param b: Second number\n",
    "        :return: Difference of a and b\n",
    "        \"\"\"\n",
    "        return a - b\n",
    "\n",
    "    def multiply(self, a, b):\n",
    "        \"\"\"\n",
    "        Multiply two numbers.\n",
    "\n",
    "        :param a: First number\n",
    "        :param b: Second number\n",
    "        :return: Product of a and b\n",
    "        \"\"\"\n",
    "        return a * b\n",
    "\n",
    "    def divide(self, a, b):\n",
    "        \"\"\"\n",
    "        Divide one number by another.\n",
    "\n",
    "        :param a: First number (numerator)\n",
    "        :param b: Second number (denominator)\n",
    "        :return: Quotient of a and b\n",
    "        :raises ValueError: If b is zero\n",
    "        \"\"\"\n",
    "        if b == 0:\n",
    "            raise ValueError(\"Cannot divide by zero.\")\n",
    "        return a / b\n"
   ]
  },
  {
   "cell_type": "code",
   "execution_count": 12,
   "id": "75aa7bbb",
   "metadata": {},
   "outputs": [
    {
     "data": {
      "text/plain": [
       "'\\n.. toctree::\\n   :maxdepth: 2\\n   :caption: Contents:\\n\\n   modules\\n\\n.. automodule:: <module_name>\\n   :members:\\n\\n'"
      ]
     },
     "execution_count": 12,
     "metadata": {},
     "output_type": "execute_result"
    }
   ],
   "source": [
    "# Sphinx Documentation Setup\n",
    "\n",
    "\n",
    "#1.Initialize Sphinx:\n",
    "# sphinx-quickstart\n",
    "\n",
    "#2. Add the Python code to the source directory.\n",
    "\n",
    "\n",
    "#3. Update index.rst to include the module:\n",
    "'''\n",
    ".. toctree::\n",
    "   :maxdepth: 2\n",
    "   :caption: Contents:\n",
    "\n",
    "   modules\n",
    "\n",
    ".. automodule:: <module_name>\n",
    "   :members:\n",
    "\n",
    "'''\n",
    "\n",
    "#4. Build HTML documentation:\n",
    "# make html"
   ]
  },
  {
   "cell_type": "code",
   "execution_count": 13,
   "id": "d33f3141",
   "metadata": {},
   "outputs": [
    {
     "data": {
      "text/plain": [
       "'\\n# test_main.py - Unit test with mocking\\nimport unittest\\nfrom unittest.mock import patch\\nfrom main import fetch_data\\n\\nclass TestFetchData(unittest.TestCase):\\n\\n    @patch(\\'main.requests.get\\')\\n    def test_fetch_data_success(self, mock_get):\\n        mock_get.return_value.status_code = 200\\n        mock_get.return_value.json.return_value = {\"key\": \"value\"}\\n\\n        result = fetch_data(\"http://example.com/api\")\\n        self.assertEqual(result, {\"key\": \"value\"})\\n\\n    @patch(\\'main.requests.get\\')\\n    def test_fetch_data_failure(self, mock_get):\\n        mock_get.return_value.status_code = 500\\n\\n        with self.assertRaises(ValueError):\\n            fetch_data(\"http://example.com/api\")\\n\\nif __name__ == \\'__main__\\':\\n    unittest.main()\\n\\n'"
      ]
     },
     "execution_count": 13,
     "metadata": {},
     "output_type": "execute_result"
    }
   ],
   "source": [
    "# 9. Mocking and Dependency Injection:\n",
    "\n",
    "\n",
    "#Using unittest.mock for Mocking\n",
    "'''\n",
    "# main.py - Code to be tested\n",
    "import requests\n",
    "\n",
    "def fetch_data(api_url):\n",
    "    response = requests.get(api_url)\n",
    "    if response.status_code == 200:\n",
    "        return response.json()\n",
    "    else:\n",
    "        raise ValueError(\"API request failed.\")\n",
    "\n",
    "'''\n",
    "\n",
    "'''\n",
    "# test_main.py - Unit test with mocking\n",
    "import unittest\n",
    "from unittest.mock import patch\n",
    "from main import fetch_data\n",
    "\n",
    "class TestFetchData(unittest.TestCase):\n",
    "\n",
    "    @patch('main.requests.get')\n",
    "    def test_fetch_data_success(self, mock_get):\n",
    "        mock_get.return_value.status_code = 200\n",
    "        mock_get.return_value.json.return_value = {\"key\": \"value\"}\n",
    "\n",
    "        result = fetch_data(\"http://example.com/api\")\n",
    "        self.assertEqual(result, {\"key\": \"value\"})\n",
    "\n",
    "    @patch('main.requests.get')\n",
    "    def test_fetch_data_failure(self, mock_get):\n",
    "        mock_get.return_value.status_code = 500\n",
    "\n",
    "        with self.assertRaises(ValueError):\n",
    "            fetch_data(\"http://example.com/api\")\n",
    "\n",
    "if __name__ == '__main__':\n",
    "    unittest.main()\n",
    "\n",
    "'''"
   ]
  },
  {
   "cell_type": "code",
   "execution_count": 14,
   "id": "e1e49d92",
   "metadata": {},
   "outputs": [
    {
     "data": {
      "text/plain": [
       "'\\n# services.py - Service class\\nclass ApiService:\\n    def get_data(self, api_url):\\n        import requests\\n        response = requests.get(api_url)\\n        return response\\n        \\n# main.py - Code to be tested\\nclass DataFetcher:\\n    def __init__(self, api_service):\\n        self.api_service = api_service\\n\\n    def fetch_data(self, api_url):\\n        response = self.api_service.get_data(api_url)\\n        if response.status_code == 200:\\n            return response.json()\\n        else:\\n            raise ValueError(\"API request failed.\")\\n\\n# test_main.py - Unit test with dependency injection\\nimport unittest\\nfrom unittest.mock import MagicMock\\nfrom main import DataFetcher\\n\\nclass TestDataFetcher(unittest.TestCase):\\n    def test_fetch_data_success(self):\\n        mock_service = MagicMock()\\n        mock_service.get_data.return_value.status_code = 200\\n        mock_service.get_data.return_value.json.return_value = {\"key\": \"value\"}\\n\\n        fetcher = DataFetcher(mock_service)\\n        result = fetcher.fetch_data(\"http://example.com/api\")\\n        self.assertEqual(result, {\"key\": \"value\"})\\n\\n    def test_fetch_data_failure(self):\\n        mock_service = MagicMock()\\n        mock_service.get_data.return_value.status_code = 500\\n\\n        fetcher = DataFetcher(mock_service)\\n        with self.assertRaises(ValueError):\\n            fetcher.fetch_data(\"http://example.com/api\")\\n\\nif __name__ == \\'__main__\\':\\n    unittest.main()\\n\\n\\n'"
      ]
     },
     "execution_count": 14,
     "metadata": {},
     "output_type": "execute_result"
    }
   ],
   "source": [
    "# Using Dependency Injection with dependency-injector\n",
    "\n",
    "\n",
    "'''\n",
    "# services.py - Service class\n",
    "class ApiService:\n",
    "    def get_data(self, api_url):\n",
    "        import requests\n",
    "        response = requests.get(api_url)\n",
    "        return response\n",
    "        \n",
    "# main.py - Code to be tested\n",
    "class DataFetcher:\n",
    "    def __init__(self, api_service):\n",
    "        self.api_service = api_service\n",
    "\n",
    "    def fetch_data(self, api_url):\n",
    "        response = self.api_service.get_data(api_url)\n",
    "        if response.status_code == 200:\n",
    "            return response.json()\n",
    "        else:\n",
    "            raise ValueError(\"API request failed.\")\n",
    "\n",
    "# test_main.py - Unit test with dependency injection\n",
    "import unittest\n",
    "from unittest.mock import MagicMock\n",
    "from main import DataFetcher\n",
    "\n",
    "class TestDataFetcher(unittest.TestCase):\n",
    "    def test_fetch_data_success(self):\n",
    "        mock_service = MagicMock()\n",
    "        mock_service.get_data.return_value.status_code = 200\n",
    "        mock_service.get_data.return_value.json.return_value = {\"key\": \"value\"}\n",
    "\n",
    "        fetcher = DataFetcher(mock_service)\n",
    "        result = fetcher.fetch_data(\"http://example.com/api\")\n",
    "        self.assertEqual(result, {\"key\": \"value\"})\n",
    "\n",
    "    def test_fetch_data_failure(self):\n",
    "        mock_service = MagicMock()\n",
    "        mock_service.get_data.return_value.status_code = 500\n",
    "\n",
    "        fetcher = DataFetcher(mock_service)\n",
    "        with self.assertRaises(ValueError):\n",
    "            fetcher.fetch_data(\"http://example.com/api\")\n",
    "\n",
    "if __name__ == '__main__':\n",
    "    unittest.main()\n",
    "\n",
    "\n",
    "'''"
   ]
  },
  {
   "cell_type": "code",
   "execution_count": null,
   "id": "96b7f089",
   "metadata": {},
   "outputs": [],
   "source": [
    "# 10. Code Review Automation: \n",
    "\n",
    "\n",
    "#Example for CodeFactor\n",
    "'''\n",
    "1. Add a .codefactor.yml configuration file (optional, \n",
    "if specific customization is needed):\n",
    "\n",
    "# .codefactor.yml\n",
    "ignore_patterns:\n",
    "  - \"tests/*\"  # Ignore test files\n",
    "language:\n",
    "  - python\n",
    "\n",
    "2. Push your repository to GitHub. No additional setup is needed; \n",
    "CodeFactor will automatically analyze the code when connected.\n",
    "\n",
    "\n",
    "'''"
   ]
  }
 ],
 "metadata": {
  "kernelspec": {
   "display_name": "Python 3 (ipykernel)",
   "language": "python",
   "name": "python3"
  },
  "language_info": {
   "codemirror_mode": {
    "name": "ipython",
    "version": 3
   },
   "file_extension": ".py",
   "mimetype": "text/x-python",
   "name": "python",
   "nbconvert_exporter": "python",
   "pygments_lexer": "ipython3",
   "version": "3.10.9"
  }
 },
 "nbformat": 4,
 "nbformat_minor": 5
}
